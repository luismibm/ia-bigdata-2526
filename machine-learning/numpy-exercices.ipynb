{
 "cells": [
  {
   "cell_type": "markdown",
   "id": "09e54c63",
   "metadata": {},
   "source": [
    "https://aules.edu.gva.es/fp/pluginfile.php/12111614/mod_resource/content/1/1.1.%20Introducció%20a%20NumPy.pdf "
   ]
  },
  {
   "cell_type": "code",
   "execution_count": 3,
   "id": "800a3ea3",
   "metadata": {},
   "outputs": [],
   "source": [
    "import numpy as np"
   ]
  },
  {
   "cell_type": "markdown",
   "id": "e70f5812",
   "metadata": {},
   "source": [
    "Ejercicio 1: Crea un programa en Python llamado ArrayCeros.py que defina un array unidimensional de 10 ceros (enteros) en NumPy. Después, cambia el tercer cero por un 1. Imprime el resultado final."
   ]
  },
  {
   "cell_type": "code",
   "execution_count": 4,
   "id": "99cec37f",
   "metadata": {},
   "outputs": [
    {
     "name": "stdout",
     "output_type": "stream",
     "text": [
      "[0 0 1 0 0 0 0 0 0 0]\n"
     ]
    }
   ],
   "source": [
    "array = np.zeros(10).astype(int)\n",
    "array[2] = 1\n",
    "\n",
    "print(array)"
   ]
  },
  {
   "cell_type": "markdown",
   "id": "c930e9eb",
   "metadata": {},
   "source": [
    "Ejercicio 2: Crea un programa en Python llamado ArraySecuencia.py que defina un array unidimensional con los números del 10 al 50 (inclusive). Imprime el resultado final."
   ]
  },
  {
   "cell_type": "code",
   "execution_count": 5,
   "id": "0bbf475e",
   "metadata": {},
   "outputs": [
    {
     "name": "stdout",
     "output_type": "stream",
     "text": [
      "[10 11 12 13 14 15 16 17 18 19 20 21 22 23 24 25 26 27 28 29 30 31 32 33\n",
      " 34 35 36 37 38 39 40 41 42 43 44 45 46 47 48 49 50]\n"
     ]
    }
   ],
   "source": [
    "array = np.arange(10, 51)\n",
    "print(array)"
   ]
  }
 ],
 "metadata": {
  "kernelspec": {
   "display_name": ".venv",
   "language": "python",
   "name": "python3"
  },
  "language_info": {
   "codemirror_mode": {
    "name": "ipython",
    "version": 3
   },
   "file_extension": ".py",
   "mimetype": "text/x-python",
   "name": "python",
   "nbconvert_exporter": "python",
   "pygments_lexer": "ipython3",
   "version": "3.9.6"
  }
 },
 "nbformat": 4,
 "nbformat_minor": 5
}
