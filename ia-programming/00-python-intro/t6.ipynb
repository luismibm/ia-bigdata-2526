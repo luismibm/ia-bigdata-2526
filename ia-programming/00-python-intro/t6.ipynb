{
  "cells": [
    {
      "cell_type": "markdown",
      "metadata": {
        "id": "3fvZhIRFPkVJ"
      },
      "source": [
        "*texto en cursiva*# Ejercicios de la Biblioteca Estándar\n",
        "\n",
        "1. Calcula el valor absoluto de -1555.\n",
        "3. Calcula el valor hexadecimal del número 99.\n",
        "4. Calcula la longitud de la siguiente cadena de texto: 'En un lugar de la mancha de cuyo nombre no quiero acordarme...'\n",
        "5. Redondea el valor 19.99 (pista: consulta en la documentación la función round()). muestra 3.14 y 3 de ejemplo\n",
        "6. Obtén el valor máximo de una lista (pista: consulta en la documentación la función max())\n",
        "7. Imprime por pantalla el texto: 'Hola mundo de Python'\n",
        "8. Pide al usuario que te indique su nombre y que lo tenga que escribir (pista: consulta en la documentación la función input())\n",
        "\n"
      ]
    },
    {
      "cell_type": "code",
      "execution_count": 5,
      "metadata": {
        "id": "WOSvi_oVNF7c"
      },
      "outputs": [
        {
          "name": "stdout",
          "output_type": "stream",
          "text": [
            "1555\n",
            "0x63\n",
            "62\n",
            "20\n",
            "9\n"
          ]
        },
        {
          "data": {
            "text/plain": [
              "''"
            ]
          },
          "execution_count": 5,
          "metadata": {},
          "output_type": "execute_result"
        }
      ],
      "source": [
        "print(abs(-1555)) #1\n",
        "print(hex(99)) #2\n",
        "print(len('En un lugar de la mancha de cuyo nombre no quiero acordarme...'))\n",
        "print(round(19.99))\n",
        "print(max([1, 2, 5, 9]))\n",
        "input(\"nombre: \")"
      ]
    }
  ],
  "metadata": {
    "colab": {
      "provenance": []
    },
    "kernelspec": {
      "display_name": ".venv",
      "language": "python",
      "name": "python3"
    },
    "language_info": {
      "codemirror_mode": {
        "name": "ipython",
        "version": 3
      },
      "file_extension": ".py",
      "mimetype": "text/x-python",
      "name": "python",
      "nbconvert_exporter": "python",
      "pygments_lexer": "ipython3",
      "version": "3.9.6"
    }
  },
  "nbformat": 4,
  "nbformat_minor": 0
}
