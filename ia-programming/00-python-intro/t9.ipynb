{
 "cells": [
  {
   "cell_type": "markdown",
   "metadata": {
    "id": "1WWMGV3KSNPr"
   },
   "source": [
    "**texto en negrita**\n",
    "# Ejercicios Listas\n",
    "\n",
    "1. Crea una lista de números de los siguientes valores: 33, 5, 67, 199, 31, 10, 90, 24, 56, 33 y llamala ```mi_lista```.\n",
    "2. Imprime por pantalla la cantidad de elementos que contiene.\n",
    "3. Imprime por pantalla las posiciones 4 y 6.\n",
    "4. Imprime por pantalla el último valor.\n",
    "5. Imprime por pantalla los valores comprendidos entre la posición 5 y 7.\n",
    "6. Ordena la lista ascendentemente e imprímela por pantalla.\n",
    "7. Ordena la lista descendentemente e imprímela por pantalla.\n",
    "8. Añade el valor 34 al final, e imprime la lista.\n",
    "9. Añade el valor 1 en la posición 5, e imprime la lista.\n",
    "10. Calcula la cantidad de valores 33 que existen en la lista y lo imprimes por pantalla.\n",
    "11. Elimina la posición 4 e imprime la lista por pantalla, e imprímela por pantalla.\n",
    "12. Crea una nueva lista llamada ```mi_lista_2``` con los valores 214, 36, 5, 99.\n",
    "13. Une ambas listas usando ```extend()``` e imprime todos los valores.\n",
    "14. Limpia la lista usando ```clear()```.\n"
   ]
  },
  {
   "cell_type": "code",
   "execution_count": 1,
   "metadata": {},
   "outputs": [
    {
     "name": "stdout",
     "output_type": "stream",
     "text": [
      "10\n",
      "31 90\n",
      "33\n",
      "[10, 90, 24]\n",
      "[5, 10, 24, 31, 33, 33, 56, 67, 90, 199]\n",
      "[199, 90, 67, 56, 33, 33, 31, 24, 10, 5]\n",
      "[199, 90, 67, 56, 33, 33, 31, 24, 10, 5, 34]\n",
      "[199, 90, 67, 56, 33, 1, 33, 31, 24, 10, 5, 34]\n",
      "2\n",
      "[199, 90, 67, 56, 1, 33, 31, 24, 10, 5, 34]\n",
      "[199, 90, 67, 56, 1, 33, 31, 24, 10, 5, 34, 214, 36, 5, 99]\n"
     ]
    }
   ],
   "source": [
    "mi_lista = [33, 5, 67, 199, 31, 10, 90, 24, 56, 33]\n",
    "\n",
    "print(len(mi_lista))\n",
    "\n",
    "print(mi_lista[4], mi_lista[6])\n",
    "\n",
    "print(mi_lista[-1])\n",
    "\n",
    "print(mi_lista[5:8])\n",
    "\n",
    "mi_lista.sort()\n",
    "print(mi_lista)\n",
    "\n",
    "mi_lista.sort(reverse=True)\n",
    "print(mi_lista)\n",
    "\n",
    "mi_lista.append(34)\n",
    "print(mi_lista)\n",
    "\n",
    "mi_lista.insert(5, 1)\n",
    "print(mi_lista)\n",
    "\n",
    "print(mi_lista.count(33))\n",
    "\n",
    "del mi_lista[4]\n",
    "print(mi_lista)\n",
    "\n",
    "mi_lista_2 = [214, 36, 5, 99]\n",
    "\n",
    "mi_lista.extend(mi_lista_2)\n",
    "print(mi_lista)\n",
    "\n",
    "mi_lista.clear()\n"
   ]
  }
 ],
 "metadata": {
  "colab": {
   "authorship_tag": "ABX9TyMgw9BryTO+9F5Q9q8pdlCk",
   "provenance": []
  },
  "kernelspec": {
   "display_name": ".venv",
   "language": "python",
   "name": "python3"
  },
  "language_info": {
   "codemirror_mode": {
    "name": "ipython",
    "version": 3
   },
   "file_extension": ".py",
   "mimetype": "text/x-python",
   "name": "python",
   "nbconvert_exporter": "python",
   "pygments_lexer": "ipython3",
   "version": "3.9.6"
  }
 },
 "nbformat": 4,
 "nbformat_minor": 0
}
