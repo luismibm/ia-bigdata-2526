{
 "cells": [
  {
   "cell_type": "markdown",
   "metadata": {
    "id": "0xZOfmj5QZE4"
   },
   "source": [
    "# Ejercicios\n",
    "\n",
    "1. Crea una variable que se llame is_op, y que sea falso.\n",
    "2. Crea una lista de valores numéricos y le llamas mi_lista.\n",
    "3. Crea un diccionario que se llame biblioteca, y que tenga 3 pares de clave-valor, los que tu consideres.\n",
    "4. Crea una variable que divida 1000 / 25\n",
    "5. Crea una variable que calcule el resto de 125 / 9\n",
    ". Crea una variable que se llame text, le indicas que sea de tipo string, y la inicializas con el valor 'es magico'.\n",
    "9. Imprime por pantalla el tipo de la variable anterior (usa type(()).\n",
    "10. Cambia el valor de la variable anterior por 2022 y vuelve a comprobar tu tipo.\n",
    "\n"
   ]
  },
  {
   "cell_type": "code",
   "execution_count": null,
   "metadata": {
    "id": "FHvva499QYv1"
   },
   "outputs": [],
   "source": [
    "is_op = False\n",
    "\n",
    "mi_lista = [1, 2, 3, 4, 5, 10, 20, 50]\n",
    "\n",
    "biblioteca = {\n",
    "    \"titulo\": \"El Quijote\",\n",
    "    \"autor\": \"Miguel de Cervantes\",\n",
    "    \"año\": 1605\n",
    "}\n",
    "\n",
    "division = 1000 / 25\n",
    "\n",
    "resto = 125 % 9\n",
    "\n",
    "text: str = 'es magico'\n",
    "\n",
    "print(f\"Tipo de text: {type(text)}\")\n",
    "\n",
    "text = 2022\n",
    "print(f\"Tipo de text después del cambio: {type(text)}\")\n"
   ]
  }
 ],
 "metadata": {
  "colab": {
   "authorship_tag": "ABX9TyNEK1WEJ0pxvmY2gPC5BNqN",
   "provenance": []
  },
  "kernelspec": {
   "display_name": "Python 3",
   "name": "python3"
  },
  "language_info": {
   "name": "python"
  }
 },
 "nbformat": 4,
 "nbformat_minor": 0
}
