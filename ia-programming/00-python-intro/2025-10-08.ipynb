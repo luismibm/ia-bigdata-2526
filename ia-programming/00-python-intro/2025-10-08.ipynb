{
 "cells": [
  {
   "metadata": {},
   "cell_type": "markdown",
   "source": "### Apartado 2.2",
   "id": "975aeb2dfa7c7b79"
  },
  {
   "metadata": {},
   "cell_type": "markdown",
   "source": "Ej 16",
   "id": "57d213f6fc75089b"
  },
  {
   "metadata": {
    "ExecuteTime": {
     "end_time": "2025-10-08T14:54:51.608405Z",
     "start_time": "2025-10-08T14:54:51.595726Z"
    }
   },
   "cell_type": "code",
   "source": "True == True != False",
   "id": "207c8da0da8adaba",
   "outputs": [
    {
     "data": {
      "text/plain": [
       "True"
      ]
     },
     "execution_count": 1,
     "metadata": {},
     "output_type": "execute_result"
    }
   ],
   "execution_count": 1
  },
  {
   "metadata": {
    "ExecuteTime": {
     "end_time": "2025-10-08T14:32:16.296790Z",
     "start_time": "2025-10-08T14:32:16.293052Z"
    }
   },
   "cell_type": "code",
   "source": "1 < 2 < 3 < 4 < 5",
   "id": "427d042c7c7abac",
   "outputs": [
    {
     "data": {
      "text/plain": [
       "True"
      ]
     },
     "execution_count": 3,
     "metadata": {},
     "output_type": "execute_result"
    }
   ],
   "execution_count": 3
  },
  {
   "metadata": {
    "ExecuteTime": {
     "end_time": "2025-10-08T14:33:37.967385Z",
     "start_time": "2025-10-08T14:33:37.964109Z"
    }
   },
   "cell_type": "code",
   "source": "(1 < 2 < 3) < (4 < 5)",
   "id": "b828a1567bb35758",
   "outputs": [
    {
     "data": {
      "text/plain": [
       "False"
      ]
     },
     "execution_count": 4,
     "metadata": {},
     "output_type": "execute_result"
    }
   ],
   "execution_count": 4
  },
  {
   "metadata": {
    "ExecuteTime": {
     "end_time": "2025-10-08T14:34:27.187108Z",
     "start_time": "2025-10-08T14:34:27.183833Z"
    }
   },
   "cell_type": "code",
   "source": "1 < 2 < 4 < 3 < 5",
   "id": "88205ea0f8a53193",
   "outputs": [
    {
     "data": {
      "text/plain": [
       "False"
      ]
     },
     "execution_count": 5,
     "metadata": {},
     "output_type": "execute_result"
    }
   ],
   "execution_count": 5
  },
  {
   "metadata": {
    "ExecuteTime": {
     "end_time": "2025-10-08T14:34:51.708748Z",
     "start_time": "2025-10-08T14:34:51.705089Z"
    }
   },
   "cell_type": "code",
   "source": "(1 < 2 < 4) < (3 < 5)",
   "id": "e97d1619889dad2c",
   "outputs": [
    {
     "data": {
      "text/plain": [
       "False"
      ]
     },
     "execution_count": 6,
     "metadata": {},
     "output_type": "execute_result"
    }
   ],
   "execution_count": 6
  },
  {
   "metadata": {},
   "cell_type": "markdown",
   "source": "### Apartado 2.4",
   "id": "9e1c6eac124b72cc"
  },
  {
   "metadata": {},
   "cell_type": "markdown",
   "source": "Ej 20",
   "id": "12e1b221b86dc48e"
  },
  {
   "metadata": {
    "ExecuteTime": {
     "end_time": "2025-10-08T15:09:13.191230Z",
     "start_time": "2025-10-08T15:09:13.186488Z"
    }
   },
   "cell_type": "code",
   "outputs": [
    {
     "name": "stdout",
     "output_type": "stream",
     "text": [
      "4.115100000000002\n"
     ]
    }
   ],
   "execution_count": 1,
   "source": [
    "x = 1.1\n",
    "y = (x ** 4) + (x ** 3) + (2 * x ** 2) - x\n",
    "print(y)"
   ],
   "id": "aee4b68278a400a0"
  },
  {
   "metadata": {},
   "cell_type": "markdown",
   "source": "Ej 21",
   "id": "b6f26d7499354d9d"
  },
  {
   "metadata": {
    "ExecuteTime": {
     "end_time": "2025-10-08T14:51:05.971056Z",
     "start_time": "2025-10-08T14:51:05.967681Z"
    }
   },
   "cell_type": "code",
   "outputs": [
    {
     "name": "stdout",
     "output_type": "stream",
     "text": [
      "11040.0\n"
     ]
    }
   ],
   "execution_count": 3,
   "source": [
    "x = 10\n",
    "y = (x ** 4) + (x ** 3) + (1/2 * x ** 2) - x\n",
    "print(y)"
   ],
   "id": "f8439bf18e682d5c"
  },
  {
   "metadata": {},
   "cell_type": "markdown",
   "source": "## Apartado 3.1",
   "id": "273a1dafd77f7305"
  },
  {
   "metadata": {},
   "cell_type": "markdown",
   "source": "Ejercicio 32",
   "id": "9ee7c48e121c1ecf"
  },
  {
   "metadata": {
    "ExecuteTime": {
     "end_time": "2025-10-08T15:23:57.935083Z",
     "start_time": "2025-10-08T15:23:57.932110Z"
    }
   },
   "cell_type": "code",
   "source": [
    "side = 3\n",
    "\n",
    "perimeter = side * 4\n",
    "print(perimeter)\n",
    "\n",
    "area = side * side\n",
    "print(area)"
   ],
   "id": "acd80b57cfc16b79",
   "outputs": [
    {
     "name": "stdout",
     "output_type": "stream",
     "text": [
      "12\n",
      "9\n"
     ]
    }
   ],
   "execution_count": 2
  },
  {
   "metadata": {},
   "cell_type": "markdown",
   "source": "Ejercicio 33",
   "id": "efe7e08336f048c3"
  },
  {
   "metadata": {
    "ExecuteTime": {
     "end_time": "2025-10-08T15:25:37.409258Z",
     "start_time": "2025-10-08T15:25:37.406006Z"
    }
   },
   "cell_type": "code",
   "source": [
    "base = 3\n",
    "height = 5\n",
    "\n",
    "area = (base * height) / 2\n",
    "print(area)"
   ],
   "id": "9d943017e52fbefb",
   "outputs": [
    {
     "name": "stdout",
     "output_type": "stream",
     "text": [
      "7.5\n"
     ]
    }
   ],
   "execution_count": 3
  },
  {
   "metadata": {},
   "cell_type": "markdown",
   "source": "Ejercicio 38",
   "id": "984586659e3a1984"
  },
  {
   "metadata": {
    "ExecuteTime": {
     "end_time": "2025-10-08T15:29:57.415590Z",
     "start_time": "2025-10-08T15:29:41.806857Z"
    }
   },
   "cell_type": "code",
   "source": [
    "a = float(input(\"Introduce el lado a: \"))\n",
    "b = float(input(\"Introduce el lado b: \"))\n",
    "c = float(input(\"Introduce el lado c: \"))\n",
    "\n",
    "perimetro = a + b + c\n",
    "\n",
    "s = perimetro / 2\n",
    "\n",
    "import math\n",
    "area = math.sqrt(s * (s - a) * (s - b) * (s - c))\n",
    "\n",
    "print(\"Perímetro:\", perimetro)\n",
    "print(\"Área:\", area)"
   ],
   "id": "d227e598f924607b",
   "outputs": [
    {
     "name": "stdout",
     "output_type": "stream",
     "text": [
      "Perímetro: 15.0\n",
      "Área: 6.49519052838329\n"
     ]
    }
   ],
   "execution_count": 4
  }
 ],
 "metadata": {
  "kernelspec": {
   "display_name": "Python 3",
   "language": "python",
   "name": "python3"
  },
  "language_info": {
   "codemirror_mode": {
    "name": "ipython",
    "version": 2
   },
   "file_extension": ".py",
   "mimetype": "text/x-python",
   "name": "python",
   "nbconvert_exporter": "python",
   "pygments_lexer": "ipython2",
   "version": "2.7.6"
  }
 },
 "nbformat": 4,
 "nbformat_minor": 5
}
