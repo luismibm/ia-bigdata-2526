{
 "cells": [
  {
   "cell_type": "markdown",
   "metadata": {
    "id": "8_0wcr6iTdhI"
   },
   "source": [
    "# Ejercicios SET\n",
    "\n",
    "1. Crea un set llamado set_1 con los siguientes valores 1, 3, 5, 7, 9\n",
    "2. Crea un set llamado set_2 con los siguientes valores 0, 2, 4, 6, 8\n",
    "3. Comprueba si puedes hacer una unión de ambos. Que la comprobación se vea por pantalla.\n",
    "4. Ahora intenta realizar una unión de ambos set, usa union(), al nuevo conjunto llámalo set_3.\n",
    "5. Imprime por pantalla la longitud de set_3.\n",
    "6. Añade el elemento 11 a set_3\n",
    "7. Comprueba si el elemento 12 está en set_3 y muéstralo en pantalla.\n",
    "8. Limpia el conjunto.\n",
    "9. Elimina los conjuntos set_1 y set_2."
   ]
  },
  {
   "cell_type": "code",
   "execution_count": null,
   "metadata": {
    "vscode": {
     "languageId": "plaintext"
    }
   },
   "outputs": [],
   "source": [
    "set_1 = {1, 3, 5, 7, 9}\n",
    "set_2 = {0, 2, 4, 6, 8}\n",
    "\n",
    "print(set_1.isdisjoint(set_2))\n",
    "\n",
    "set_3 = set_1.union(set_2)\n",
    "\n",
    "print(len(set_3))\n",
    "\n",
    "set_3.add(11)\n",
    "\n",
    "print(12 in set_3)\n",
    "\n",
    "set_3.clear()\n",
    "\n",
    "del set_1\n",
    "del set_2"
   ]
  }
 ],
 "metadata": {
  "colab": {
   "authorship_tag": "ABX9TyOTLzQqM9wlRGaWH1UKd2d2",
   "provenance": []
  },
  "kernelspec": {
   "display_name": "Python 3",
   "name": "python3"
  },
  "language_info": {
   "name": "python"
  }
 },
 "nbformat": 4,
 "nbformat_minor": 0
}
