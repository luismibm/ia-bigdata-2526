{
 "cells": [
  {
   "cell_type": "markdown",
   "metadata": {
    "id": "X4jlrMBoUMEf"
   },
   "source": [
    "# Ejercicios Diccionario\n",
    "\n",
    "1. Crea un diccionario llamado persona, y añadele las siguientes claves con sus valores:\n",
    "    * first_name: tu nombre\n",
    "    * last_name: tu apellido\n",
    "    * years: tu edad\n",
    "    * city: tu ciudad\n",
    "    * country: tu pais\n",
    "    * hobbies: una lista de 3 aficciones\n",
    "2. Imprime por pantalla el diccionario.\n",
    "3. Calcula la longitud del diccionario y lo imprimes por pantalla.+\n",
    "4. Muestra por pantalla la ciudad de la persona.\n",
    "5. Añade un nuevo elemento llamado job y su valor.\n",
    "6. Cambia la ciudad de persona por el valor 'in your dreams'.\n",
    "7. Imprime por pantalla el diccionario.\n",
    "8. Comprueba si el elemento years está en el diccionario e imprímelo por pantalla.\n",
    "9. Elimina el último elemento del dicionario e imprime el diccionario por pantalla."
   ]
  },
  {
   "cell_type": "code",
   "execution_count": null,
   "metadata": {},
   "outputs": [],
   "source": [
    "persona = {\n",
    "    'first_name': 'Luis',\n",
    "    'last_name': 'Martinez',\n",
    "    'years': 25,\n",
    "    'city': 'Madrid',\n",
    "    'country': 'Spain',\n",
    "    'hobbies': ['reading', 'coding', 'gaming']\n",
    "}\n",
    "\n",
    "print(persona)\n",
    "\n",
    "print(len(persona))\n",
    "\n",
    "print(persona['city'])\n",
    "\n",
    "persona['job'] = 'Software Engineer'\n",
    "\n",
    "persona['city'] = 'in your dreams'\n",
    "\n",
    "print(persona)\n",
    "\n",
    "print('years' in persona)\n",
    "\n",
    "persona.popitem()\n",
    "print(persona)"
   ]
  }
 ],
 "metadata": {
  "colab": {
   "authorship_tag": "ABX9TyPj3Mf5u5sikFlYTqufxvew",
   "provenance": []
  },
  "kernelspec": {
   "display_name": ".venv",
   "language": "python",
   "name": "python3"
  },
  "language_info": {
   "name": "python",
   "version": "3.9.6"
  }
 },
 "nbformat": 4,
 "nbformat_minor": 0
}
