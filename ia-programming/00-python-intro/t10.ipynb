{
 "cells": [
  {
   "cell_type": "markdown",
   "metadata": {
    "id": "t1VMSy5eSxbM"
   },
   "source": [
    "# Ejercicios TUPLAS\n",
    "1. Crea una tupla con los valores 1, 2, 3, 4, 5. Llámalo tupla_1, y lo imprimes por pantalla.\n",
    "2. Crea una tupla con los valores 6, 7, 8, 9, 10. Llámalo tupla_2, y lo imprimes por pantalla.\n",
    "3. Crea una tupla con la unión de las dos anteriores y llámala tupla_3 y la imprimes por pantalla.\n",
    "4. Calcula la longitud de la tupla 3 y la imprimes por pantalla.\n",
    "5. Muestra por pantalla la última posición de la tupla 3.\n",
    "6. Muestra las posiciones de la 5 a la 9 de la tupla 3.\n",
    "7. Convierte la tupla 3 en una lista, llama al objeto lista y muestra por pantalla su tipo."
   ]
  },
  {
   "cell_type": "code",
   "execution_count": null,
   "metadata": {
    "id": "ZrrDZT16OCb1"
   },
   "outputs": [],
   "source": [
    "tupla_1 = (1, 2, 3, 4, 5)\n",
    "print(tupla_1)\n"
   ]
  },
  {
   "cell_type": "code",
   "execution_count": null,
   "metadata": {
    "id": "bwOhIae_OILk"
   },
   "outputs": [],
   "source": [
    "tupla_2 = (6, 7, 8, 9, 10)\n",
    "print(tupla_2)\n"
   ]
  },
  {
   "cell_type": "code",
   "execution_count": null,
   "metadata": {
    "id": "vMCQIGDTOIYN"
   },
   "outputs": [],
   "source": [
    "tupla_3 = tupla_1 + tupla_2\n",
    "print(tupla_3)\n"
   ]
  },
  {
   "cell_type": "code",
   "execution_count": null,
   "metadata": {
    "id": "SPK2q8ivOIeV"
   },
   "outputs": [],
   "source": [
    "print(len(tupla_3))\n"
   ]
  },
  {
   "cell_type": "code",
   "execution_count": null,
   "metadata": {
    "id": "J47yUE6rOIhW"
   },
   "outputs": [],
   "source": [
    "print(tupla_3[-1])\n"
   ]
  },
  {
   "cell_type": "code",
   "execution_count": null,
   "metadata": {
    "id": "Ubf9XQLeOIkD"
   },
   "outputs": [],
   "source": [
    "print(tupla_3[5:10])\n"
   ]
  },
  {
   "cell_type": "code",
   "execution_count": null,
   "metadata": {
    "id": "UBfeYnnCOIqd"
   },
   "outputs": [],
   "source": [
    "lista = list(tupla_3)\n",
    "print(type(lista))\n"
   ]
  }
 ],
 "metadata": {
  "colab": {
   "authorship_tag": "ABX9TyNmjGrQ7a53g2DLhFTVNIzl",
   "provenance": []
  },
  "kernelspec": {
   "display_name": "Python 3",
   "name": "python3"
  },
  "language_info": {
   "name": "python"
  }
 },
 "nbformat": 4,
 "nbformat_minor": 0
}
