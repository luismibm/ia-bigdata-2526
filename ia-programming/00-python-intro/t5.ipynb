{
  "cells": [
    {
      "cell_type": "markdown",
      "metadata": {
        "id": "o7HHKb4xOggY"
      },
      "source": [
        "# Ejercicios de Operadores\n",
        "\n",
        "\n",
        "1. Realiza una suma de 2 operadores\n",
        "2. Realiza una división cualesquiera\n",
        "3. Realiza la siguiente potencia: 13 elevado a 5\n",
        "4. Compara si 4 es mayor que 3\n",
        "5. Compara si 100 es menor o igual que 101\n",
        "6. Compara la suma 2 + 2 y 3 * 3 indicando el operador 'and' entre ambas.\n",
        "\n",
        "\n"
      ]
    },
    {
      "cell_type": "code",
      "execution_count": 1,
      "metadata": {
        "id": "AeeTpzJ3MYxN"
      },
      "outputs": [],
      "source": [
        "var = 2 + 2"
      ]
    },
    {
      "cell_type": "code",
      "execution_count": 2,
      "metadata": {
        "id": "rTG4JYijMZMf"
      },
      "outputs": [],
      "source": [
        "var = 2/2"
      ]
    },
    {
      "cell_type": "code",
      "execution_count": 3,
      "metadata": {
        "id": "il0mCW0SMZUX"
      },
      "outputs": [],
      "source": [
        "var = 13**5"
      ]
    },
    {
      "cell_type": "code",
      "execution_count": 4,
      "metadata": {
        "id": "Sz3K8NfYMT-V"
      },
      "outputs": [
        {
          "name": "stdout",
          "output_type": "stream",
          "text": [
            "True\n"
          ]
        }
      ],
      "source": [
        "print(4 > 3)"
      ]
    },
    {
      "cell_type": "code",
      "execution_count": 5,
      "metadata": {
        "id": "XEmzmx8tMVzs"
      },
      "outputs": [
        {
          "name": "stdout",
          "output_type": "stream",
          "text": [
            "True\n"
          ]
        }
      ],
      "source": [
        "print(100 <= 101)"
      ]
    },
    {
      "cell_type": "code",
      "execution_count": 6,
      "metadata": {
        "id": "eOd-DFZ0MWJ9"
      },
      "outputs": [
        {
          "name": "stdout",
          "output_type": "stream",
          "text": [
            "4\n"
          ]
        }
      ],
      "source": [
        "print ((2 + 2) or (3 * 3))"
      ]
    }
  ],
  "metadata": {
    "colab": {
      "provenance": []
    },
    "kernelspec": {
      "display_name": ".venv",
      "language": "python",
      "name": "python3"
    },
    "language_info": {
      "codemirror_mode": {
        "name": "ipython",
        "version": 3
      },
      "file_extension": ".py",
      "mimetype": "text/x-python",
      "name": "python",
      "nbconvert_exporter": "python",
      "pygments_lexer": "ipython3",
      "version": "3.9.6"
    }
  },
  "nbformat": 4,
  "nbformat_minor": 0
}
