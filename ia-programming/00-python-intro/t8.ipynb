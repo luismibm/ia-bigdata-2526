{
  "cells": [
    {
      "cell_type": "markdown",
      "metadata": {
        "id": "GbYnhMONRS3U"
      },
      "source": [
        "# Ejercicios de Strings\n",
        "\n",
        "1. Crea una variable llamada mi_texto con el siguiente valor: 'Estoy aprendiendo a utilizar Python'.\n",
        "2. Calcula la longitud de ```mi_texto``` y la muestras por pantalla.\n",
        "3. Realiza un print de ```mi_texto``` y lo pasas todo a mayúsculas.\n",
        "4. Realiza un print de ```mi_texto``` y coloca sólo el primer carácter en mayúscula.\n",
        "5. Realiza un print de ```mi_texto``` y revierte el texto.\n",
        "6. Muestra usando print, de ```mi_texto```, sólo las posiciones 2, 3, 7, 33 y lo concatenas (puedes crear variables para ayudarte a concatenar).\n",
        "7. Trocea ```mi_texto``` desde la posición 10 a la 20 y lo muestras por pantalla usando print.\n",
        "8. Comprueba ```mi_texto``` usando los métodos isalnum, isalpha y isdigit.\n",
        "9. Crea una variable lista_mi_texto y que se guarde el resultado de usar el método split sobre ```mi_texto```. Luego lo imprimes por pantalla.\n",
        "10.Crea un conteo de caracteres de la palabra ```Malabares```.Luego lo imprimes por pantalla.\n",
        "\n"
      ]
    },
    {
      "cell_type": "code",
      "execution_count": null,
      "metadata": {
        "id": "me8y3GxAszER"
      },
      "outputs": [],
      "source": [
        "mi_texto = 'Estoy aprendiendo a utilizar Python'\n",
        "\n",
        "print(len(mi_texto))\n",
        "\n",
        "print(mi_texto.upper())\n",
        "\n",
        "print(mi_texto.capitalize())\n",
        "\n",
        "print(mi_texto[::-1])\n",
        "\n",
        "concatenado = mi_texto[2] + mi_texto[3] + mi_texto[7] + mi_texto[33]\n",
        "print(concatenado)\n",
        "\n",
        "print(mi_texto[10:20])\n",
        "\n",
        "print(mi_texto.isalnum())\n",
        "print(mi_texto.isalpha())\n",
        "print(mi_texto.isdigit())\n",
        "\n",
        "lista_mi_texto = mi_texto.split()\n",
        "print(lista_mi_texto)\n",
        "\n",
        "from collections import Counter\n",
        "conteo = Counter('Malabares')\n",
        "print(conteo)\n"
      ]
    }
  ],
  "metadata": {
    "colab": {
      "provenance": []
    },
    "kernelspec": {
      "display_name": "Python 3",
      "name": "python3"
    },
    "language_info": {
      "name": "python"
    }
  },
  "nbformat": 4,
  "nbformat_minor": 0
}
