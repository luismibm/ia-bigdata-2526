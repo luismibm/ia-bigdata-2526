{
 "cells": [
  {
   "cell_type": "markdown",
   "metadata": {
    "id": "m2vjUyO3_82k"
   },
   "source": [
    "## Ejercicio 1\n",
    "\n",
    "Crea una cadena de texto con el siguiente valor:\n",
    "\n",
    "> Me estoy iniciando en el mundo de Python"
   ]
  },
  {
   "cell_type": "code",
   "execution_count": null,
   "metadata": {
    "id": "yNQ0d0KkAQ6j"
   },
   "outputs": [],
   "source": [
    "var = \"Me estoy iniciando en el mundo de python\""
   ]
  },
  {
   "cell_type": "markdown",
   "metadata": {
    "id": "F8ATb-Zd_PPy"
   },
   "source": [
    "# Ejercicio 2\n",
    "\n",
    "Crea un valor entero."
   ]
  },
  {
   "cell_type": "code",
   "execution_count": null,
   "metadata": {
    "id": "l-k_mgwM-51P"
   },
   "outputs": [],
   "source": [
    "var = 1"
   ]
  },
  {
   "cell_type": "markdown",
   "metadata": {
    "id": "6sy6r1UV_FUE"
   },
   "source": [
    "## Ejercicio 3\n",
    "\n",
    "Crea un valor decimal que tenga al menos dos decimales"
   ]
  },
  {
   "cell_type": "code",
   "execution_count": null,
   "metadata": {
    "id": "rHS8tetV_1ER"
   },
   "outputs": [],
   "source": [
    "var = 3.14"
   ]
  },
  {
   "cell_type": "markdown",
   "metadata": {
    "id": "ArD6IwNw_Lm6"
   },
   "source": [
    "## Ejercicio 4\n",
    "\n",
    "Crea un valor booleano, verdadero o falso."
   ]
  },
  {
   "cell_type": "code",
   "execution_count": null,
   "metadata": {
    "id": "5u33uN2J_NLz"
   },
   "outputs": [],
   "source": [
    "var = True"
   ]
  },
  {
   "cell_type": "markdown",
   "metadata": {
    "id": "o9sUVua4AZhb"
   },
   "source": [
    "\n",
    "\n",
    "## Ejercicio 5\n",
    "\n",
    "Crea una lista de tres elementos que sean equipos de futbol.\n",
    "\n"
   ]
  },
  {
   "cell_type": "code",
   "execution_count": null,
   "metadata": {
    "id": "izb7nrI1Ag7H"
   },
   "outputs": [],
   "source": [
    "var = ('Madrid', 'Barcelona', 'Valencia')"
   ]
  }
 ],
 "metadata": {
  "colab": {
   "authorship_tag": "ABX9TyML2f4dhvEx1d8e4y9CIQ+9",
   "provenance": []
  },
  "kernelspec": {
   "display_name": "Python 3",
   "name": "python3"
  },
  "language_info": {
   "name": "python"
  }
 },
 "nbformat": 4,
 "nbformat_minor": 0
}
